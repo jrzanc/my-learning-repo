{
 "cells": [
  {
   "cell_type": "markdown",
   "id": "abcc3b34-72c6-44d2-aa06-8687d32f652c",
   "metadata": {},
   "source": [
    "# LIST COMPREHENSIONS"
   ]
  },
  {
   "cell_type": "markdown",
   "id": "825d72e1-5c31-45c9-823f-c93548de49dc",
   "metadata": {},
   "source": [
    "## [expression for item in iterable]<br>\n",
    "* **expression**: Transformation applied to each item in the iterable;<br>\n"
   ]
  },
  {
   "cell_type": "code",
   "execution_count": null,
   "id": "e9f1bacc-43c8-4ecd-85fe-2a0d83de081f",
   "metadata": {},
   "outputs": [],
   "source": []
  }
 ],
 "metadata": {
  "kernelspec": {
   "display_name": "Python 3 (ipykernel)",
   "language": "python",
   "name": "python3"
  },
  "language_info": {
   "codemirror_mode": {
    "name": "ipython",
    "version": 3
   },
   "file_extension": ".py",
   "mimetype": "text/x-python",
   "name": "python",
   "nbconvert_exporter": "python",
   "pygments_lexer": "ipython3",
   "version": "3.13.5"
  }
 },
 "nbformat": 4,
 "nbformat_minor": 5
}
