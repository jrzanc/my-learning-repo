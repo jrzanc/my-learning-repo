{
 "cells": [
  {
   "cell_type": "markdown",
   "id": "abcc3b34-72c6-44d2-aa06-8687d32f652c",
   "metadata": {},
   "source": [
    "# LIST COMPREHENSIONS"
   ]
  },
  {
   "cell_type": "markdown",
   "id": "825d72e1-5c31-45c9-823f-c93548de49dc",
   "metadata": {},
   "source": [
    "## [expression for item in iterable]<br>\n",
    "* **expression**: Transformation applied to each item in the iterable;<br>\n"
   ]
  },
  {
   "cell_type": "markdown",
   "id": "6c6478f7-76a2-4b55-8c39-5ae6b7c22584",
   "metadata": {
    "jp-MarkdownHeadingCollapsed": true
   },
   "source": [
    "# FUNCTIONS IN THE MODERN PYTHON ECOSYTEN"
   ]
  },
  {
   "cell_type": "markdown",
   "id": "9cf6adc9-1e6b-4f4e-9a38-6561c5333fe3",
   "metadata": {},
   "source": [
    "Below are presented a range of features that enhance the power of functions in **Python**.<br>\n",
    "* **Decorators** - are special functions that modify the behavior of other functions without changing their core logic.<br>\n",
    "* **Generators** - are useful to improve memory efficiency to replace return.<br>\n",
    "* **F-String** - these formatted string literals provide a concise and readable way to embed expressions directly within strings.<br>\n",
    "* **Type Hints** - these annotations specify the expected data types for function arguments and return values."
   ]
  },
  {
   "cell_type": "markdown",
   "id": "632b62b6-16d0-4886-b6c4-3c7d1c106501",
   "metadata": {
    "jp-MarkdownHeadingCollapsed": true
   },
   "source": [
    "# MORE POWER WITH CLASSES"
   ]
  },
  {
   "cell_type": "markdown",
   "id": "80beebed-7471-473e-aa78-3084e28f9fc9",
   "metadata": {},
   "source": [
    "* **Class Variables** - are variables shared by all objects of a class. This means it is commom to all instances.<br>"
   ]
  },
  {
   "cell_type": "code",
   "execution_count": 3,
   "id": "9030616f-d5a5-4144-8544-9618655fd889",
   "metadata": {},
   "outputs": [
    {
     "name": "stdout",
     "output_type": "stream",
     "text": [
      "The total students is 3\n"
     ]
    }
   ],
   "source": [
    "class Aluno:\n",
    "    total_aluno=0\n",
    "    def __init__(self, nome):\n",
    "        self.nome=nome\n",
    "        Aluno.total_aluno+=1\n",
    "a1=Aluno(\"Carlos\")\n",
    "a2=Aluno(\"João\")\n",
    "a3=Aluno(\"Beatriz\")\n",
    "print(f\"The total students is {a1.total_aluno}\")"
   ]
  },
  {
   "cell_type": "markdown",
   "id": "4abd9a2b-cf23-4e01-b119-4c6dbba58a3a",
   "metadata": {},
   "source": [
    "* **Static class** - it is useful to use without needing to instantiate and as a utility class, grouping related functions"
   ]
  },
  {
   "cell_type": "code",
   "execution_count": 5,
   "id": "0e8226a9-2e04-4f3d-a224-ff02e62e5279",
   "metadata": {},
   "outputs": [],
   "source": [
    "class Ferramentas:\n",
    "    @staticmethod\n",
    "    def somar(a, b):\n",
    "        return a + b\n",
    "\n",
    "    @staticmethod\n",
    "    def multiplicar(a, b):\n",
    "        return a * b"
   ]
  },
  {
   "cell_type": "markdown",
   "id": "4486fd32-c56b-46fc-8ad8-faa73e64330a",
   "metadata": {
    "jp-MarkdownHeadingCollapsed": true
   },
   "source": [
    "# NAMED FUNCTIONS<br>"
   ]
  },
  {
   "cell_type": "markdown",
   "id": "799fef4b-31ea-451a-ada4-93923fedcf2e",
   "metadata": {},
   "source": [
    "* **obs_01** - if a function is for interna function use, name it as **_name_function**<br>\n",
    "* **obs_02** - if the function return boolean values, use **is_name**, **has_name** or **can_name**. For instance, **has_permission** and **is_authenticated**"
   ]
  },
  {
   "cell_type": "markdown",
   "id": "7935ad80-018c-4308-b2bd-a51f89f46d99",
   "metadata": {
    "jp-MarkdownHeadingCollapsed": true
   },
   "source": [
    "# DOCSTRING"
   ]
  },
  {
   "cell_type": "markdown",
   "id": "2b155dfd-5469-4321-9f50-d7e98306064a",
   "metadata": {},
   "source": [
    "**Docstring** is a useful way to provide information about the function's purpose, inputs, outputs and potential pitfalls. <br>\n",
    "Below a good example of **Docstring**."
   ]
  },
  {
   "cell_type": "code",
   "execution_count": 20,
   "id": "aa328c17-820e-4fdf-9f25-8c80ffec9009",
   "metadata": {},
   "outputs": [],
   "source": [
    "def calculate_monthly_payment(principal: float, interest_rate: float, loan_term_years: int) -> float:\n",
    "    \"\"\"\n",
    "    Calculates the monthly payment for a fixed-rate loan.\n",
    "\n",
    "    Args:\n",
    "        principal: The total amount borrowed (float).\n",
    "        interest_rate: The annual interest rate (as a decimal, float).\n",
    "        loan_term_years: The loan term in years (int).\n",
    "\n",
    "    Returns:\n",
    "        The monthly payment amount (float).\n",
    "\n",
    "    Raises:\n",
    "        ValueError: If any of the inputs are negative or zero.\n",
    "\n",
    "    Example:\n",
    "        >>> calculate_monthly_payment(100000, 0.05, 30)\n",
    "        530.33 \n",
    "    \"\"\"\n",
    "    if principal <= 0 or interest_rate <= 0 or loan_term_years <= 0:\n",
    "        raise ValueError(\"All input values must be positive.\")\n",
    "\n",
    "    monthly_interest_rate = interest_rate / 12\n",
    "    number_of_payments = loan_term_years * 12\n",
    "    \n",
    "    # Calculation logic for monthly payment (omitted for brevity)\n",
    "    monthly_payment=10\n",
    "    return monthly_payment"
   ]
  },
  {
   "cell_type": "markdown",
   "id": "d7c3f409-4da0-4b4a-bad2-2a7c1da96cc5",
   "metadata": {
    "jp-MarkdownHeadingCollapsed": true
   },
   "source": [
    "# *ARGS AND **KWARGS"
   ]
  },
  {
   "cell_type": "markdown",
   "id": "8bd68edc-f270-4031-94e4-56b5ed020806",
   "metadata": {},
   "source": [
    "The firs, *args, is useful when you don't know how many arguments the user will pass."
   ]
  },
  {
   "cell_type": "code",
   "execution_count": 25,
   "id": "6aea7ba1-e054-4836-a711-00582b36d415",
   "metadata": {},
   "outputs": [
    {
     "name": "stdout",
     "output_type": "stream",
     "text": [
      "(1, 2, 3)\n",
      "6\n"
     ]
    }
   ],
   "source": [
    "def somar(*args):\n",
    "    print(args)\n",
    "    return sum(args)\n",
    "print(somar(1,2,3))"
   ]
  },
  {
   "cell_type": "markdown",
   "id": "27ac0abc-38d2-4161-acba-4df4e1b07838",
   "metadata": {},
   "source": [
    "The second is useful when is passed argumentes with keys, but you're not sure about how many arguments are."
   ]
  },
  {
   "cell_type": "code",
   "execution_count": 26,
   "id": "1b43f040-f17d-4959-81f4-04284ad96a30",
   "metadata": {},
   "outputs": [
    {
     "name": "stdout",
     "output_type": "stream",
     "text": [
      "nome: Junior\n",
      "idade: 30\n",
      "cidade: Cuiabá\n"
     ]
    }
   ],
   "source": [
    "\n",
    "def mostrar_info(**kwargs):\n",
    "    for chave, valor in kwargs.items():\n",
    "        print(f\"{chave}: {valor}\")\n",
    "\n",
    "mostrar_info(nome=\"Junior\", idade=30, cidade=\"Cuiabá\")\n"
   ]
  },
  {
   "cell_type": "markdown",
   "id": "917d8f41-f37c-4d07-bf7a-801f3aff5abc",
   "metadata": {},
   "source": [
    "# CONDA COMMANDS"
   ]
  },
  {
   "cell_type": "markdown",
   "id": "368e3d24-7e4e-4c2e-8670-3f95324038de",
   "metadata": {},
   "source": [
    "These are:\n",
    "* *conda activate* - Creates new Conda environment<br>\n",
    "* *conda activate* - Activates a specific Conda environment<br>\n",
    "* *conda deactivate* - Deactivates the currently active environment<br>\n",
    "* *conda install* - install packages into the active environment<br>\n",
    "* *conda list* - Lists all packages installed in the active environment<br>\n",
    "* *conda search* - Searches for available packages in the Conda environment<br>\n",
    "* *conda search* <kewyword>: Searches the Conda repositories for packages related to the given keyword<br>\n",
    "* *conda update* - updates a package to its latest version\n",
    "* *conda remove* - uninstalls a package from the active environment<br>\n",
    "* *conda env list* - lists all Conda environments on your system"
   ]
  },
  {
   "cell_type": "markdown",
   "id": "196c7650-1e33-4a99-9de5-119beb5c82a8",
   "metadata": {},
   "source": [
    "To get all environment setting:<br>\n",
    "*conda env export > environment.yml*<br>\n",
    "<br>\n",
    "To reinstall all environment settinds:<br>\n",
    "*conda env create -f environment.yml*\n"
   ]
  },
  {
   "cell_type": "markdown",
   "id": "c398d792-2c08-4278-8348-068483593aa7",
   "metadata": {},
   "source": [
    "# MUTABLE DATA SCTRUCTURE"
   ]
  },
  {
   "cell_type": "markdown",
   "id": "42e9fc3c-043e-4091-ad56-18756cce0b0d",
   "metadata": {},
   "source": [
    "## LISTS\n",
    "\n",
    "* *.append(x)* - add x on end of list<br>\n",
    "* *.remove(x)* - remove the fist value x from list<br>\n",
    "* *.pop(i)* - remove return list without item on index i<br>\n",
    "* *.sort()* - sort values<br>\n",
    "* *.index(x)* - find x's index<br>"
   ]
  },
  {
   "cell_type": "markdown",
   "id": "758e9783-9284-498b-ad2e-81a4b84647ab",
   "metadata": {},
   "source": [
    "## SETS<br>\n",
    "* *.add(x)* - adds the x to the set<br>\n",
    "* *.remove(x)* - remove the x from the set<br>\n",
    "* *.union(other_set)* - combines two sets to create a new containing all unique elements from both<br>\n",
    "* *.intersection(other_set)* - only elements that are common to both sets<br>\n",
    "* *.difference(other_set)* - creates a new set containing only the elements that are in the first set but not in the second<br>\n",
    "* *.issubset(other_set)* - checks if all elements of the first set are also in the second set\n",
    "* *.issuperset(other_set)* - checks if all elements of the second set are also in the first set."
   ]
  },
  {
   "cell_type": "markdown",
   "id": "902c1be1-f940-4b76-8658-6416bbad7983",
   "metadata": {},
   "source": [
    "# ERROR HANDLING AND DEBUGGING"
   ]
  },
  {
   "cell_type": "markdown",
   "id": "182ad744-c02b-4d6f-8fb1-8eba0d933503",
   "metadata": {},
   "source": [
    "## Print()<br>\n",
    "Insert *print()* in some points in your code is useful to identified errors. But, in complex project, this resource can become cumbersome."
   ]
  },
  {
   "cell_type": "code",
   "execution_count": 2,
   "id": "50bf153d-08fc-4eb3-92a2-ed810aefb109",
   "metadata": {},
   "outputs": [
    {
     "name": "stdout",
     "output_type": "stream",
     "text": [
      "Input numbers: [1, 2, 3, 4]\n",
      "Total: 10\n",
      "Count: 4\n",
      "Average: 2.5\n"
     ]
    },
    {
     "data": {
      "text/plain": [
       "2.5"
      ]
     },
     "execution_count": 2,
     "metadata": {},
     "output_type": "execute_result"
    }
   ],
   "source": [
    "def calculate_average(numbers):\n",
    "    print(\"Input numbers:\", numbers)\n",
    "    total = sum(numbers)\n",
    "    print(\"Total:\", total)\n",
    "    count = len(numbers)\n",
    "    print(\"Count:\", count)\n",
    "    average = total / count\n",
    "    print(\"Average:\", average)\n",
    "    return average\n",
    "\n",
    "calculate_average([1,2,3,4])"
   ]
  },
  {
   "cell_type": "markdown",
   "id": "7eee6500-68d9-4b32-a7a6-39a29a1a01d8",
   "metadata": {},
   "source": [
    "## Logging <br>\n",
    "Other useful tool is logging libraries."
   ]
  },
  {
   "cell_type": "code",
   "execution_count": 3,
   "id": "d929703f-eaa1-43b5-bc72-0b7f9d87f686",
   "metadata": {},
   "outputs": [
    {
     "name": "stderr",
     "output_type": "stream",
     "text": [
      "2025-08-14 10:08:32,933 - DEBUG - Debug: valor recebido: 5\n",
      "2025-08-14 10:08:32,934 - INFO - Info: resultado da divisão é 2.0\n",
      "2025-08-14 10:08:32,936 - DEBUG - Debug: valor recebido: 0\n",
      "2025-08-14 10:08:32,937 - WARNING - Aviso: x é zero, isso pode causar problemas.\n",
      "2025-08-14 10:08:32,939 - ERROR - Erro: divisão por zero!\n",
      "2025-08-14 10:08:32,940 - DEBUG - Debug: valor recebido: texto\n",
      "2025-08-14 10:08:32,942 - CRITICAL - Erro crítico: unsupported operand type(s) for /: 'int' and 'str'\n"
     ]
    }
   ],
   "source": [
    "\n",
    "import logging\n",
    "\n",
    "# Configuração do logging\n",
    "logging.basicConfig(\n",
    "    level=logging.DEBUG,  # Define o nível mínimo que será exibido\n",
    "    format='%(asctime)s - %(levelname)s - %(message)s'\n",
    ")\n",
    "\n",
    "def exemplo_de_log(x):\n",
    "    logging.debug(f'Debug: valor recebido: {x}')\n",
    "    \n",
    "    if x == 0:\n",
    "        logging.warning('Aviso: x é zero, isso pode causar problemas.')\n",
    "    \n",
    "    try:\n",
    "        resultado = 10 / x\n",
    "        logging.info(f'Info: resultado da divisão é {resultado}')\n",
    "    except ZeroDivisionError:\n",
    "        logging.error('Erro: divisão por zero!')\n",
    "    except Exception as e:\n",
    "        logging.critical(f'Erro crítico: {e}')\n",
    "\n",
    "# Testes\n",
    "exemplo_de_log(5)\n",
    "exemplo_de_log(0)\n",
    "exemplo_de_log('texto')  # Vai gerar um erro crítico\n"
   ]
  },
  {
   "cell_type": "markdown",
   "id": "a5f9c9e6-f788-42c1-ad35-45e0cda755bc",
   "metadata": {},
   "source": [
    "## Assertions <br>\n",
    "Other useful tool is assertions.They're statements that express conditions you expect to be true at specific points. "
   ]
  },
  {
   "cell_type": "code",
   "execution_count": 5,
   "id": "fcd299ba-d012-4154-baa2-83b04c0feca3",
   "metadata": {},
   "outputs": [],
   "source": [
    "def calculate_area(length, width):\n",
    "    assert length > 0, \"Length must be positive\"\n",
    "    assert width > 0, \"Width must be positive\"\n",
    "    return length * width\n",
    "#calculate_area(-5,10)   "
   ]
  },
  {
   "cell_type": "code",
   "execution_count": null,
   "id": "db78ea91-2cb4-4776-832c-31617a50d122",
   "metadata": {},
   "outputs": [],
   "source": []
  }
 ],
 "metadata": {
  "kernelspec": {
   "display_name": "Python 3 (ipykernel)",
   "language": "python",
   "name": "python3"
  },
  "language_info": {
   "codemirror_mode": {
    "name": "ipython",
    "version": 3
   },
   "file_extension": ".py",
   "mimetype": "text/x-python",
   "name": "python",
   "nbconvert_exporter": "python",
   "pygments_lexer": "ipython3",
   "version": "3.13.5"
  }
 },
 "nbformat": 4,
 "nbformat_minor": 5
}
